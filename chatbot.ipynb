{
 "cells": [
  {
   "cell_type": "markdown",
   "metadata": {},
   "source": [
    "# Importing"
   ]
  },
  {
   "cell_type": "code",
   "execution_count": 1,
   "metadata": {},
   "outputs": [],
   "source": [
    "import pandas as pd\n",
    "import numpy as np\n",
    "\n",
    "import warnings\n",
    "warnings.filterwarnings(\"ignore\")"
   ]
  },
  {
   "cell_type": "markdown",
   "metadata": {},
   "source": [
    "# Knowledge Base Preparation"
   ]
  },
  {
   "cell_type": "code",
   "execution_count": 2,
   "metadata": {},
   "outputs": [],
   "source": [
    "knowledge_base_df = pd.read_excel('FullChatbotDataset.xlsx')\n",
    "fintech_df = knowledge_base_df[knowledge_base_df['Topic'] == 'Fintech']\n",
    "artech_df = knowledge_base_df[knowledge_base_df['Topic'] == 'ArTech']\n",
    "proptech_df = knowledge_base_df[knowledge_base_df['Topic'] == 'PropTech']\n",
    "digitalization_df = knowledge_base_df[knowledge_base_df['Topic'] == 'Digitalization']"
   ]
  },
  {
   "cell_type": "markdown",
   "metadata": {},
   "source": [
    "# Loading Classification Model"
   ]
  },
  {
   "cell_type": "code",
   "execution_count": 3,
   "metadata": {},
   "outputs": [],
   "source": [
    "import pickle\n",
    "label_map = {\"Fintech\": 0, \"ArTech\": 1, \"PropTech\": 2, \"Digitalization\": 3, \"Irrelevant\": 4}\n",
    "classifier = pickle.load(open('classifier.pkl', 'rb'))\n",
    "vectorizer = pickle.load(open('vectorizer.pkl', 'rb'))"
   ]
  },
  {
   "cell_type": "code",
   "execution_count": 4,
   "metadata": {},
   "outputs": [],
   "source": [
    "def predict_topic(question):\n",
    "    question_vector = vectorizer.transform([question])\n",
    "    prediction = classifier.predict(question_vector)\n",
    "    return prediction\n",
    "\n",
    "def get_KB_df(class_id):\n",
    "    if class_id == 0:\n",
    "        return fintech_df\n",
    "    elif class_id == 1:\n",
    "        return artech_df\n",
    "    elif class_id == 2:\n",
    "        return proptech_df\n",
    "    elif class_id == 3:\n",
    "        return digitalization_df\n",
    "    else:\n",
    "        return None"
   ]
  },
  {
   "cell_type": "markdown",
   "metadata": {},
   "source": [
    "# Chatbot Type 1: Question-Matching Chatbot"
   ]
  },
  {
   "cell_type": "code",
   "execution_count": 14,
   "metadata": {},
   "outputs": [],
   "source": [
    "import pandas as pd\n",
    "from sklearn.feature_extraction.text import TfidfVectorizer\n",
    "from sklearn.metrics.pairwise import cosine_similarity\n",
    "\n",
    "def find_best_match(user_query, knowledge_base,confidence_threshold=0.2):\n",
    "    \"\"\"\n",
    "    Match the user's query to the closest question in the knowledge base.\n",
    "    Returns the best matching question and its corresponding answer.\n",
    "    \"\"\"\n",
    "    # Extract the questions\n",
    "    questions = knowledge_base[\"Question\"].tolist()\n",
    "    \n",
    "    # Vectorize the questions and the user query\n",
    "    vectorizer = TfidfVectorizer()\n",
    "    vectors = vectorizer.fit_transform(questions + [user_query])  # Add user query\n",
    "    \n",
    "    # Compute cosine similarity\n",
    "    similarities = cosine_similarity(vectors[-1], vectors[:-1]).flatten()  # Compare query to questions\n",
    "    best_match_idx = similarities.argmax()  # Find the index of the best match\n",
    "\n",
    "    # Threshold for minimum similarity\n",
    "    if similarities[best_match_idx] < confidence_threshold:\n",
    "        return None, None\n",
    "    \n",
    "    # Get the corresponding question and answer\n",
    "    best_question = questions[best_match_idx]\n",
    "    best_answer = knowledge_base.iloc[best_match_idx][\"Answer\"]\n",
    "    return best_question, best_answer"
   ]
  },
  {
   "cell_type": "code",
   "execution_count": 15,
   "metadata": {},
   "outputs": [
    {
     "name": "stdout",
     "output_type": "stream",
     "text": [
      "Fintech Matching QA Chatbot is ready! Type 'exit' to quit.\n",
      "You:  How does blockchain works?\n",
      "Bot: Blockchain technology works by recording transactions in blocks, which are then linked in chronological order. Each block contains transaction data, a timestamp, and a cryptographic hash of the previous block.\n",
      "You:  How blockchain facilitate security?\n",
      "Bot: Blockchain ensures data security through cryptographic hashing, decentralization (reducing single points of failure), and consensus mechanisms that validate transactions before they are recorded.\n",
      "You:  What is the weather like today?\n",
      "Bot: I'm sorry, the questions is out of my scope.\n",
      "You:  exit\n",
      "Goodbye!\n"
     ]
    }
   ],
   "source": [
    "# Interactive chatbot\n",
    "print(\"Fintech Matching QA Chatbot is ready! Type 'exit' to quit.\")\n",
    "while True:\n",
    "    user_query = input(\"You: \")\n",
    "    print(\"You: \", user_query)\n",
    "    if user_query.lower() == \"exit\":\n",
    "        print(\"Goodbye!\")\n",
    "        break\n",
    "\n",
    "    # Predict the topic\n",
    "    prediction = predict_topic(user_query)\n",
    "    class_id = prediction[0]\n",
    "    knowledge_base = get_KB_df(class_id)\n",
    "\n",
    "    if knowledge_base is None:\n",
    "        print(\"Bot: I'm sorry, the questions is out of my scope.\")\n",
    "        continue\n",
    "\n",
    "    question, answer = find_best_match(user_query, knowledge_base)\n",
    "\n",
    "    if answer is None:\n",
    "        print(\"Bot: I'm sorry, I don't have an answer to that question.\")\n",
    "    else:\n",
    "        print(f\"Bot: {answer}\")"
   ]
  },
  {
   "cell_type": "markdown",
   "metadata": {},
   "source": [
    "# Chatbot Type 2: using LLM"
   ]
  },
  {
   "cell_type": "code",
   "execution_count": 42,
   "metadata": {},
   "outputs": [],
   "source": [
    "import zhipuai\n",
    "\n",
    "# Initialize the ZhipuAI client with your API key\n",
    "client = zhipuai.ZhipuAI(api_key=\"42a0d7e358685ad79f65fd0b65482ed0.F4pyNvJM8zdfC6rL\")\n",
    "\n",
    "def get_response(question,role=\"Intermediate\", company_KB = pd.DataFrame()):\n",
    "    # Construct the prompt\n",
    "    prompt = question\n",
    "\n",
    "    if company_KB.empty:\n",
    "        if role == \"Beginner\":\n",
    "            prompt = f\"The user asked: '{prompt}'. Respond in a way that is simple and easy to understand for someone new to the topic. Use examples or analogies to make the concept clear. Avoid technical jargon or complexity.\"\n",
    "        elif role == \"Intermediate\":\n",
    "            prompt = f\"The user asked: '{prompt}'. Provide a detailed but straightforward explanation with practical examples. Assume the user has some prior knowledge but avoid excessive technical jargon.\"\n",
    "        elif role == \"Advanced\":\n",
    "            prompt = f\"The user asked: '{prompt}'. Provide a detailed and technical explanation suitable for an advanced audience. Include domain-specific terminology, in-depth analysis, and references to advanced concepts or research when relevant.\"\n",
    "        elif role == \"Corporate/Company\":\n",
    "            prompt = f\"The user asked: '{prompt}'. Provide a response tailored for a business professional. Focus on practical applications, strategies, financial implications, and relevant industry trends or statistics. Keep the response concise and actionable.\"\n",
    "\n",
    "    else:\n",
    "        _, answer = find_best_match(question, company_KB)\n",
    "        if answer is not None:\n",
    "            prompt = f\"The user asked: '{question}'. Your are the representative of Nexora Innovations. Based on the context provided in '{answer}', craft a clear and concise response that directly addresses the user's query while ensuring the tone remains professional and informative. Include relevant details and examples if necessary, and avoid straying from the provided context.\"\n",
    "        else:\n",
    "            return \"I'm sorry, I don't have an answer to that question. Please contact our customer service for further assistance.\"\n",
    "\n",
    "\n",
    "    # Make the API call\n",
    "    response = client.chat.completions.create(\n",
    "    model=\"glm-4\",\n",
    "    messages=[\n",
    "        {\n",
    "            \"role\": \"assistant\",\n",
    "            \"content\": \"I am chatglm-4\"\n",
    "        },\n",
    "        {\n",
    "            \"role\": \"user\",\n",
    "            \"content\": prompt\n",
    "        }\n",
    "    ])\n",
    "\n",
    "    # Extract and return the output\n",
    "    output = response.choices[0].message.content\n",
    "    return output"
   ]
  },
  {
   "cell_type": "markdown",
   "metadata": {},
   "source": [
    "## Addon: Different Roles"
   ]
  },
  {
   "cell_type": "code",
   "execution_count": 30,
   "metadata": {},
   "outputs": [
    {
     "data": {
      "text/plain": [
       "\"Imagine a large digital ledger that is duplicated many times across a network of computers. This ledger records all the transactions made with a certain type of digital currency or data. Blockchain is like a continuously updating spreadsheet that everyone in the network can see and contribute to, but once information is entered, it can't be changed or removed.\\n\\nHere's a simple analogy: Think of blockchain as a chain of blocks. Each block contains a list of transactions, and each block is linked to the one before it, like a chain. When a new transaction occurs, it gets put into a new block, and that block gets added to the chain.\\n\\nHere's how it works step by step:\\n\\n1. **Transaction**: Let's say you want to send some digital money to a friend. This transaction is broadcast to the network.\\n\\n2. **Verification**: Computers on the network, called nodes, check that your transaction is valid. They ensure you have the money you want to send and that the transaction isn't fraudulent.\\n\\n3. **Block Creation**: Once the transaction is verified, it gets combined with other transactions to form a block.\\n\\n4. **Linking the Block**: This new block is then linked to the previous block in the chain using a complex mathematical formula, creating a secure, unbreakable bond.\\n\\n5. **Consensus**: The network must agree that the new block is valid. This is done through a process called consensus, which makes sure that all the copies of the ledger across the network are updated and in agreement.\\n\\n6. **Adding the Block to the Chain**: Once the network agrees, the new block is added to the chain, and the transaction is complete. The record of this transaction is now permanent and visible to everyone on the network.\\n\\nTo make it secure:\\n\\n- **Encryption**: Each block is encrypted, making it nearly impossible to change the information within it.\\n- **Decentralization**: Since the ledger is duplicated across many computers, there's no single point of failure. If one copy is altered, the rest of the network can detect this and correct it.\\n\\nUsing the blockchain ensures that transactions are secure, transparent, and can't be altered by a single entity, which is why it's so powerful for applications like cryptocurrencies, supply chain management, and more.\""
      ]
     },
     "execution_count": 30,
     "metadata": {},
     "output_type": "execute_result"
    }
   ],
   "source": [
    "get_response(\"How does blockchain works?\", \"Beginner\")"
   ]
  },
  {
   "cell_type": "code",
   "execution_count": 31,
   "metadata": {},
   "outputs": [
    {
     "data": {
      "text/plain": [
       "\"Blockchain is a decentralized technology that enables the recording and verification of transactions across multiple computers, commonly known as nodes, in a network. It works by creating a continuous chain of blocks, where each block contains a list of transactions. Here's a step-by-step explanation of how it works, along with practical examples:\\n\\n1. Transaction: A transaction is simply an exchange of data or assets between two parties. For example, if Alice wants to send Bob 1 Bitcoin, she would initiate a transaction.\\n\\n2. Block: Transactions are grouped into blocks. A block can contain hundreds or even thousands of transactions. Each block has a unique identifier called a hash and a timestamp.\\n\\n   - Example: Think of a block as a page in a ledger book where multiple transactions are recorded.\\n\\n3. Hashing: A hash function takes input data (like transactions in a block) and produces a fixed-size string of characters, which is the hash. This hash is unique to the input data, meaning even a small change in the input data will result in a completely different hash.\\n\\n   - Example: A fingerprint scanner uses hashing to convert your fingerprint into a unique hash that's stored in its database.\\n\\n4. Linking Blocks: Each block contains a hash of the previous block, creating a chain of blocks linked together. This is what makes the blockchain secure and tamper-evident, as any change in a previous block would change its hash and, consequently, the hash of all the following blocks.\\n\\n   - Example: Think of each block as a link in a chain, where each link (block) connects to the previous one, making it difficult to break or alter the chain without detection.\\n\\n5. Consensus: To maintain the integrity of the blockchain, the nodes in the network must agree on the validity of transactions and blocks. This is done through a consensus mechanism, such as Proof of Work (PoW) or Proof of Stake (PoS).\\n\\n   - Example: In PoW, nodes compete to solve a complex mathematical puzzle. The first node to solve the puzzle gets to add the next block to the blockchain and is rewarded for their effort.\\n\\n6. Decentralization: Unlike traditional databases, a blockchain is distributed across multiple nodes, making it decentralized. Each node has a copy of the entire blockchain, ensuring transparency and redundancy.\\n\\n   - Example: Email services are centralized (e.g., Gmail, Yahoo Mail), meaning the service provider controls all the data. In contrast, blockchain is like having a distributed email system where no single entity controls all the data.\\n\\n7. Immutability: Once a block is added to the blockchain, it becomes nearly impossible to alter the data within it. This is because changing a block would require recalculating the hash for that block and all the subsequent blocks, which would require an immense amount of computational power.\\n\\n   - Example: Imagine trying to rewrite a single sentence on every page of a million-page book scattered across the world. It's nearly impossible.\\n\\nPractical Examples:\\n\\n1. Bitcoin: The first and most well-known application of blockchain technology, Bitcoin, enables peer-to-peer transactions without the need for a central authority like a bank.\\n\\n2. Supply Chain Management: Blockchain can be used to track the movement of goods from the manufacturer to the consumer, ensuring transparency and authenticity.\\n\\n3. Smart Contracts: These are self-executing contracts with the terms of the agreement directly written into the code. Blockchain technology ensures that these contracts are executed as intended without the need for intermediaries.\\n\\n4. Identity Management: Blockchain can be used to create a secure and decentralized identity system, where individuals have control over their personal data and can share it with third parties without the risk of identity theft.\\n\\nIn summary, blockchain works by linking blocks of transactions through hashes, maintaining consensus across a decentralized network, and ensuring the immutability of the data recorded in the blocks. This technology has diverse applications beyond cryptocurrencies, offering secure, transparent, and efficient solutions in various industries.\""
      ]
     },
     "execution_count": 31,
     "metadata": {},
     "output_type": "execute_result"
    }
   ],
   "source": [
    "get_response(\"How does blockchain works?\", \"Intermediate\")"
   ]
  },
  {
   "cell_type": "code",
   "execution_count": 32,
   "metadata": {},
   "outputs": [
    {
     "data": {
      "text/plain": [
       "'Blockchain technology is a decentralized digital ledger that maintains a continuously growing list of records, called blocks, which are secured from tampering and revision. It is a foundational innovation underlying cryptocurrencies like Bitcoin, and its application extends beyond digital currencies to various domains, including supply chain management, smart contracts, and decentralized finance (DeFi).\\n\\nHere is a detailed, technical explanation of how blockchain works, tailored to an advanced audience:\\n\\n**1. Blockchain Structure:**\\n\\n   - **Block:** Each block contains a list of transactions, a timestamp, a nonce (a unique random number used to create a hash), and the hash of the previous block, creating a chain of blocks.\\n   - **Hash Function:** A cryptographic hash function takes an input (or \\'message\\') and produces a fixed-size string, which is the hash. In a blockchain, each block\\'s hash is computed based on the block\\'s contents, including the previous block\\'s hash.\\n   - **Linking Blocks:** By including the hash of the previous block in the next block, each block refers to the preceding one, creating an immutable chain.\\n\\n**2. Consensus Mechanisms:**\\n\\n   - **Proof of Work (PoW):** Bitcoin uses PoW, where miners compete to solve a computational puzzle to add a new block to the chain. The successful miner receives a reward and validates the transactions in the block.\\n   - **Proof of Stake (PoS):** An alternative to PoW, where the creator of a new block is chosen in a deterministic way, depending on their wealth (number of coins they hold and have staked).\\n   - **Consensus Algorithms:** Other consensus mechanisms, such as Practical Byzantine Fault Tolerance (PBFT) and Delegated Proof of Stake (DPoS), are used in different blockchain systems to achieve agreement across the network.\\n\\n**3. Transactions and Scripts:**\\n\\n   - **Transaction:** A transaction contains information about the sender, the receiver, and the value being transferred. It also includes a digital signature to verify the authenticity of the transaction.\\n   - **Scripting Language:** Bitcoin uses a scripting language that allows the creation of complex transactions, known as smart contracts.\\n   - **Smart Contracts:** Found in blockchains like Ethereum, smart contracts are self-executing contracts with the terms of the agreement directly written into code.\\n\\n**4. Immutability and Security:**\\n\\n   - **tamper-evident:** Once a block is added to the blockchain, it is computationally infeasible to alter the data in that block without invalidating the chain.\\n   - **Digital Signatures:** Transactions are signed using public key cryptography, ensuring that the sender cannot deny having sent the transaction and that the transaction has not been altered.\\n   - **51% Attack:** A hypothetical scenario where more than half of the network\\'s computing power is controlled by a single entity, enabling them to double-spend coins and potentially manipulate the blockchain.\\n\\n**5. Gossip Protocol and Network Structure:**\\n\\n   - **Gossip Protocol:** Blockchain nodes use a gossip protocol to disseminate information across the network quickly.\\n   - **Peer-to-Peer (P2P) Network:** The blockchain network operates on a P2P basis, where each node is connected to several other nodes, sharing and validating the blockchain\\'s data.\\n\\n**6. Advanced Concepts and Research:**\\n\\n   - **Sharding:** A database partitioning technique used in blockchains to improve scalability by splitting the data into smaller, more manageable pieces called shards.\\n   - **State Channels:** Off-chain communication mechanisms that enable parties to transact without broadcasting every transaction to the blockchain, thus reducing congestion.\\n   - **Zero-Knowledge Proofs:** A method by which one party (the prover) can prove to another party (the verifier) that a given statement is true, without conveying any information about the statement itself.\\n   - **Privacy Enhancements:** Research into privacy-preserving techniques, such as Confidential Transactions and Ring Signatures, aims to improve user privacy on blockchains.\\n\\nFor further reading, the following resources can provide in-depth insights into blockchain technology:\\n\\n- **\"Bitcoin: A Peer-to-Peer Electronic Cash System\"** by Satoshi Nakamoto\\n- **\"Incentives in Cryptocurrency Networks\"** by Christopher J. Dart\\n- **\"Ethereum: A Secure Decentralised Generalised Transaction Ledger\"** by Gavin Wood\\n- **\"PBFT: Byzantine Fault Tolerance\"** by Miguel Castro and Barbara Liskov\\n\\nThis explanation should provide a comprehensive technical overview of how blockchains work, highlighting key concepts and advanced research directions in the field.'"
      ]
     },
     "execution_count": 32,
     "metadata": {},
     "output_type": "execute_result"
    }
   ],
   "source": [
    "get_response(\"How does blockchain works?\", \"Advanced\")"
   ]
  },
  {
   "cell_type": "code",
   "execution_count": 29,
   "metadata": {},
   "outputs": [
    {
     "data": {
      "text/plain": [
       "'Blockchain works as a decentralized digital ledger that records transactions across multiple computers, creating an immutable and transparent record. Here\\'s a concise explanation tailored for a business professional:\\n\\n\"Blockchain operates by linking transactions in \\'blocks\\' through cryptographic algorithms, ensuring security and preventing tampering. Each block refers to the previous one, forming a \\'chain.\\' This technology\\'s practical applications for business include:\\n\\n1. Supply Chain Management: Enhance transparency, track goods, and reduce fraud. For instance, Walmart has reduced the time to trace food items from days to seconds using blockchain.\\n\\n2. Smart Contracts: Self-executing contracts with predefined rules that automatically enforce obligations, saving time and legal fees in areas like real estate, logistics, and intellectual property.\\n\\n3. Financial Transactions: Offer secure, fast, and cost-effective cross-border payments. Ripple, for example, has partnered with banks to facilitate international transfers.\\n\\n4. Identity Management: Provide secure digital identities, crucial for financial services, healthcare, and e-government services.\\n\\n5. Tokenization and ICOs: Issue digital tokens to represent assets, rights, or participation in projects, enabling companies to raise capital through Initial Coin Offerings (ICOs).\\n\\nStrategically, businesses should consider:\\n\\n- Integration: Explore how blockchain can streamline existing processes and create new business models.\\n- Collaboration: Engage with industry partners to build blockchain solutions that can standardize operations and reduce costs.\\n- Compliance: Leverage blockchain\\'s transparency to meet regulatory requirements, particularly in finance and data protection.\\n\\nFinancial implications:\\n\\n- Cost savings: Blockchain can reduce transaction costs and eliminate intermediaries.\\n- Efficiency: Real-time processing and settlement of transactions can free up working capital.\\n- Investment opportunities: Blockchain startups and projects present new avenues for investment and growth.\\n\\nIndustry trends and statistics:\\n\\n- According to Statista, the global blockchain market is expected to grow from $3.0 billion in 2020 to $39.7 billion by 2025.\\n- Grand View Research projects that the supply chain management segment will experience significant growth, reaching $4.93 billion by 2025.\\n\\nEmbracing blockchain requires a strategic approach, focusing on tangible benefits while staying informed about evolving industry standards and regulations.\"'"
      ]
     },
     "execution_count": 29,
     "metadata": {},
     "output_type": "execute_result"
    }
   ],
   "source": [
    "get_response(\"How does blockchain works?\", \"Corporate/Company\")"
   ]
  },
  {
   "cell_type": "markdown",
   "metadata": {},
   "source": [
    "# Addon 2: Company Specific Q&A"
   ]
  },
  {
   "cell_type": "markdown",
   "metadata": {},
   "source": [
    "While the large language model does not know about specific company information, like new startups, we can use a knowledge base for company Q&A to assist the answer\n",
    "\n",
    "In this section, we make up a fake company Nexora Innovations, and demonstrate how text processing can help LLM models."
   ]
  },
  {
   "cell_type": "code",
   "execution_count": 40,
   "metadata": {},
   "outputs": [],
   "source": [
    "company_df = pd.read_excel('CompanyInfo.xlsx')"
   ]
  },
  {
   "cell_type": "code",
   "execution_count": 43,
   "metadata": {},
   "outputs": [
    {
     "data": {
      "text/plain": [
       "'I am ChatGLM-4, an AI assistant, and I represent Nexora Innovations. Nexora is an AI-driven company that specializes in fintech, augmented reality technologies, and providing digital transformation solutions to help businesses evolve and thrive in the digital era. We leverage cutting-edge AI to develop innovative products and services that enhance efficiency and user experience in financial and AR applications.'"
      ]
     },
     "execution_count": 43,
     "metadata": {},
     "output_type": "execute_result"
    }
   ],
   "source": [
    "get_response(\"What is your company?\", company_KB= company_df)"
   ]
  },
  {
   "cell_type": "code",
   "execution_count": 46,
   "metadata": {},
   "outputs": [
    {
     "data": {
      "text/plain": [
       "'You can contact Nexora Innovations by reaching out to us via email at support@nexora.com or by calling our hotline at +65-1234-5678. Our team is ready to assist you with any inquiries or support you may need.'"
      ]
     },
     "execution_count": 46,
     "metadata": {},
     "output_type": "execute_result"
    }
   ],
   "source": [
    "get_response(\"How to contact your company?\", company_KB= company_df)"
   ]
  },
  {
   "cell_type": "code",
   "execution_count": 47,
   "metadata": {},
   "outputs": [
    {
     "data": {
      "text/plain": [
       "'At Nexora Innovations, we leverage AI by developing custom solutions that are tailored to meet the unique needs of our clients across various industries. Our AI applications are designed to enhance business processes, improve decision-making, and optimize operations. For instance, we might use machine learning algorithms to help a manufacturing company predict equipment maintenance, or develop natural language processing tools for a customer service department to better understand and respond to client inquiries. By integrating AI into these workflows, Nexora enables businesses to achieve greater efficiency, accuracy, and cost savings.'"
      ]
     },
     "execution_count": 47,
     "metadata": {},
     "output_type": "execute_result"
    }
   ],
   "source": [
    "get_response(\"How does your company use AI?\", company_KB= company_df)"
   ]
  }
 ],
 "metadata": {
  "kernelspec": {
   "display_name": "APAI",
   "language": "python",
   "name": "python3"
  },
  "language_info": {
   "codemirror_mode": {
    "name": "ipython",
    "version": 3
   },
   "file_extension": ".py",
   "mimetype": "text/x-python",
   "name": "python",
   "nbconvert_exporter": "python",
   "pygments_lexer": "ipython3",
   "version": "3.11.10"
  }
 },
 "nbformat": 4,
 "nbformat_minor": 2
}
